{
  "cells": [
    {
      "cell_type": "code",
      "execution_count": null,
      "metadata": {
        "colab": {
          "base_uri": "https://localhost:8080/"
        },
        "id": "7zNlc81nY4rL",
        "outputId": "688a89c1-30d8-4108-d187-62917eb12ae4"
      },
      "outputs": [
        {
          "output_type": "stream",
          "name": "stdout",
          "text": [
            "Mounted at /content/drive\n"
          ]
        }
      ],
      "source": [
        "from google.colab import drive\n",
        "drive.mount('/content/drive')"
      ]
    },
    {
      "cell_type": "code",
      "execution_count": null,
      "metadata": {
        "colab": {
          "base_uri": "https://localhost:8080/"
        },
        "id": "_uqWK7_PY9d9",
        "outputId": "5d78aa01-b417-4fa3-bd3c-02eef13d5573"
      },
      "outputs": [
        {
          "output_type": "stream",
          "name": "stdout",
          "text": [
            "Looking in indexes: https://pypi.org/simple, https://us-python.pkg.dev/colab-wheels/public/simple/\n",
            "Collecting transformers\n",
            "  Downloading transformers-4.28.1-py3-none-any.whl (7.0 MB)\n",
            "\u001b[2K     \u001b[90m━━━━━━━━━━━━━━━━━━━━━━━━━━━━━━━━━━━━━━━━\u001b[0m \u001b[32m7.0/7.0 MB\u001b[0m \u001b[31m54.8 MB/s\u001b[0m eta \u001b[36m0:00:00\u001b[0m\n",
            "\u001b[?25hRequirement already satisfied: filelock in /usr/local/lib/python3.9/dist-packages (from transformers) (3.11.0)\n",
            "Requirement already satisfied: tqdm>=4.27 in /usr/local/lib/python3.9/dist-packages (from transformers) (4.65.0)\n",
            "Requirement already satisfied: pyyaml>=5.1 in /usr/local/lib/python3.9/dist-packages (from transformers) (6.0)\n",
            "Collecting huggingface-hub<1.0,>=0.11.0\n",
            "  Downloading huggingface_hub-0.13.4-py3-none-any.whl (200 kB)\n",
            "\u001b[2K     \u001b[90m━━━━━━━━━━━━━━━━━━━━━━━━━━━━━━━━━━━━━━\u001b[0m \u001b[32m200.1/200.1 kB\u001b[0m \u001b[31m29.3 MB/s\u001b[0m eta \u001b[36m0:00:00\u001b[0m\n",
            "\u001b[?25hCollecting tokenizers!=0.11.3,<0.14,>=0.11.1\n",
            "  Downloading tokenizers-0.13.3-cp39-cp39-manylinux_2_17_x86_64.manylinux2014_x86_64.whl (7.8 MB)\n",
            "\u001b[2K     \u001b[90m━━━━━━━━━━━━━━━━━━━━━━━━━━━━━━━━━━━━━━━━\u001b[0m \u001b[32m7.8/7.8 MB\u001b[0m \u001b[31m96.8 MB/s\u001b[0m eta \u001b[36m0:00:00\u001b[0m\n",
            "\u001b[?25hRequirement already satisfied: regex!=2019.12.17 in /usr/local/lib/python3.9/dist-packages (from transformers) (2022.10.31)\n",
            "Requirement already satisfied: requests in /usr/local/lib/python3.9/dist-packages (from transformers) (2.27.1)\n",
            "Requirement already satisfied: packaging>=20.0 in /usr/local/lib/python3.9/dist-packages (from transformers) (23.1)\n",
            "Requirement already satisfied: numpy>=1.17 in /usr/local/lib/python3.9/dist-packages (from transformers) (1.22.4)\n",
            "Requirement already satisfied: typing-extensions>=3.7.4.3 in /usr/local/lib/python3.9/dist-packages (from huggingface-hub<1.0,>=0.11.0->transformers) (4.5.0)\n",
            "Requirement already satisfied: certifi>=2017.4.17 in /usr/local/lib/python3.9/dist-packages (from requests->transformers) (2022.12.7)\n",
            "Requirement already satisfied: charset-normalizer~=2.0.0 in /usr/local/lib/python3.9/dist-packages (from requests->transformers) (2.0.12)\n",
            "Requirement already satisfied: idna<4,>=2.5 in /usr/local/lib/python3.9/dist-packages (from requests->transformers) (3.4)\n",
            "Requirement already satisfied: urllib3<1.27,>=1.21.1 in /usr/local/lib/python3.9/dist-packages (from requests->transformers) (1.26.15)\n",
            "Installing collected packages: tokenizers, huggingface-hub, transformers\n",
            "Successfully installed huggingface-hub-0.13.4 tokenizers-0.13.3 transformers-4.28.1\n",
            "Looking in indexes: https://pypi.org/simple, https://us-python.pkg.dev/colab-wheels/public/simple/\n",
            "Collecting torchinfo\n",
            "  Downloading torchinfo-1.7.2-py3-none-any.whl (22 kB)\n",
            "Installing collected packages: torchinfo\n",
            "Successfully installed torchinfo-1.7.2\n"
          ]
        }
      ],
      "source": [
        "!pip install transformers\n",
        "!pip install torchinfo"
      ]
    },
    {
      "cell_type": "code",
      "execution_count": null,
      "metadata": {
        "id": "uh3skW7fZQmg"
      },
      "outputs": [],
      "source": [
        "import transformers\n",
        "import pandas as pd\n",
        "import torch\n",
        "from tqdm import tqdm\n",
        "from torchinfo import summary\n",
        "from torch.utils.data import DataLoader\n",
        "from transformers import AutoModel, AutoTokenizer\n",
        "from sklearn.model_selection import train_test_split\n",
        "import torch.nn as nn\n",
        "import torch.nn.functional as F\n",
        "from sklearn.metrics import accuracy_score, precision_score, recall_score, f1_score\n",
        "import warnings\n",
        "warnings.filterwarnings(action='ignore')"
      ]
    },
    {
      "cell_type": "code",
      "execution_count": null,
      "metadata": {
        "id": "QGu4bSK5J6hs"
      },
      "outputs": [],
      "source": [
        "if torch.cuda.is_available():\n",
        "  device = torch.device('cuda')\n",
        "else:\n",
        "  device = torch.device('cpu')"
      ]
    },
    {
      "cell_type": "code",
      "execution_count": null,
      "metadata": {
        "colab": {
          "base_uri": "https://localhost:8080/"
        },
        "id": "eGyeUC9uZe0H",
        "outputId": "1ff7d00c-5265-4559-fd35-800b4fc1afc5"
      },
      "outputs": [
        {
          "output_type": "stream",
          "name": "stderr",
          "text": [
            "Some weights of the model checkpoint at monologg/kobigbird-bert-base were not used when initializing BigBirdModel: ['cls.predictions.decoder.weight', 'cls.seq_relationship.weight', 'cls.predictions.transform.LayerNorm.weight', 'cls.seq_relationship.bias', 'cls.predictions.transform.LayerNorm.bias', 'cls.predictions.bias', 'cls.predictions.decoder.bias', 'cls.predictions.transform.dense.bias', 'cls.predictions.transform.dense.weight']\n",
            "- This IS expected if you are initializing BigBirdModel from the checkpoint of a model trained on another task or with another architecture (e.g. initializing a BertForSequenceClassification model from a BertForPreTraining model).\n",
            "- This IS NOT expected if you are initializing BigBirdModel from the checkpoint of a model that you expect to be exactly identical (initializing a BertForSequenceClassification model from a BertForSequenceClassification model).\n",
            "Special tokens have been added in the vocabulary, make sure the associated word embeddings are fine-tuned or trained.\n"
          ]
        }
      ],
      "source": [
        "model = AutoModel.from_pretrained(\"monologg/kobigbird-bert-base\")\n",
        "tokenizer = AutoTokenizer.from_pretrained(\"monologg/kobigbird-bert-base\",\n",
        "                                          additional_special_tokens=[\"[FACT]\", \"[ARGS]\"]\n",
        "                                          )\n",
        "model.resize_token_embeddings(len(tokenizer))"
      ]
    },
    {
      "cell_type": "code",
      "execution_count": null,
      "metadata": {
        "colab": {
          "base_uri": "https://localhost:8080/"
        },
        "id": "g6mGchz-ZbEW",
        "outputId": "28963656-46fa-48f9-c564-17f896618fb1"
      },
      "outputs": [
        {
          "output_type": "stream",
          "name": "stdout",
          "text": [
            "모델에 적용된 스페셜 토큰 확인 :  ['<s>', '</s>', '[UNK]', '[SEP]', '[PAD]', '[CLS]', '[MASK]', '[FACT]', '[ARGS]']\n",
            "모델에 적용된 스페셜 토큰 ids 확인 :  [5, 6, 1, 3, 0, 2, 4, 32500, 32501]\n"
          ]
        }
      ],
      "source": [
        "print('모델에 적용된 스페셜 토큰 확인 : ', tokenizer.all_special_tokens)\n",
        "print('모델에 적용된 스페셜 토큰 ids 확인 : ', tokenizer.all_special_ids)"
      ]
    },
    {
      "cell_type": "code",
      "execution_count": null,
      "metadata": {
        "colab": {
          "base_uri": "https://localhost:8080/",
          "height": 112
        },
        "id": "BjYBvY6paAMR",
        "outputId": "f4d0d528-1323-4989-cc76-17ea7a3c123b"
      },
      "outputs": [
        {
          "output_type": "execute_result",
          "data": {
            "text/plain": [
              "                                           facts_pre  \\\n",
              "0   가. 보험계약의 체결 등 (1) 보험계약 체결 이 사건 보험계약자이자 신청인의  ...   \n",
              "1  가. 보험계약의 체결 등(1) 보험계약 체결 0000개발은 2021. 1. 20. ...   \n",
              "\n",
              "                                            args_pre  label  \n",
              "0   가. 신청인의 주장 피보험자의 부주의로 인한 화재로 신청인 소유의 주택에 손해가 ...      0  \n",
              "1  가. 신청인의 주장 사고가 덤프트럭을 후진하던 중 신호수(안전관리자)를 충격하여 발...      0  "
            ],
            "text/html": [
              "\n",
              "  <div id=\"df-9c0043ac-155b-4b8a-b360-cef4148cc604\">\n",
              "    <div class=\"colab-df-container\">\n",
              "      <div>\n",
              "<style scoped>\n",
              "    .dataframe tbody tr th:only-of-type {\n",
              "        vertical-align: middle;\n",
              "    }\n",
              "\n",
              "    .dataframe tbody tr th {\n",
              "        vertical-align: top;\n",
              "    }\n",
              "\n",
              "    .dataframe thead th {\n",
              "        text-align: right;\n",
              "    }\n",
              "</style>\n",
              "<table border=\"1\" class=\"dataframe\">\n",
              "  <thead>\n",
              "    <tr style=\"text-align: right;\">\n",
              "      <th></th>\n",
              "      <th>facts_pre</th>\n",
              "      <th>args_pre</th>\n",
              "      <th>label</th>\n",
              "    </tr>\n",
              "  </thead>\n",
              "  <tbody>\n",
              "    <tr>\n",
              "      <th>0</th>\n",
              "      <td>가. 보험계약의 체결 등 (1) 보험계약 체결 이 사건 보험계약자이자 신청인의  ...</td>\n",
              "      <td>가. 신청인의 주장 피보험자의 부주의로 인한 화재로 신청인 소유의 주택에 손해가 ...</td>\n",
              "      <td>0</td>\n",
              "    </tr>\n",
              "    <tr>\n",
              "      <th>1</th>\n",
              "      <td>가. 보험계약의 체결 등(1) 보험계약 체결 0000개발은 2021. 1. 20. ...</td>\n",
              "      <td>가. 신청인의 주장 사고가 덤프트럭을 후진하던 중 신호수(안전관리자)를 충격하여 발...</td>\n",
              "      <td>0</td>\n",
              "    </tr>\n",
              "  </tbody>\n",
              "</table>\n",
              "</div>\n",
              "      <button class=\"colab-df-convert\" onclick=\"convertToInteractive('df-9c0043ac-155b-4b8a-b360-cef4148cc604')\"\n",
              "              title=\"Convert this dataframe to an interactive table.\"\n",
              "              style=\"display:none;\">\n",
              "        \n",
              "  <svg xmlns=\"http://www.w3.org/2000/svg\" height=\"24px\"viewBox=\"0 0 24 24\"\n",
              "       width=\"24px\">\n",
              "    <path d=\"M0 0h24v24H0V0z\" fill=\"none\"/>\n",
              "    <path d=\"M18.56 5.44l.94 2.06.94-2.06 2.06-.94-2.06-.94-.94-2.06-.94 2.06-2.06.94zm-11 1L8.5 8.5l.94-2.06 2.06-.94-2.06-.94L8.5 2.5l-.94 2.06-2.06.94zm10 10l.94 2.06.94-2.06 2.06-.94-2.06-.94-.94-2.06-.94 2.06-2.06.94z\"/><path d=\"M17.41 7.96l-1.37-1.37c-.4-.4-.92-.59-1.43-.59-.52 0-1.04.2-1.43.59L10.3 9.45l-7.72 7.72c-.78.78-.78 2.05 0 2.83L4 21.41c.39.39.9.59 1.41.59.51 0 1.02-.2 1.41-.59l7.78-7.78 2.81-2.81c.8-.78.8-2.07 0-2.86zM5.41 20L4 18.59l7.72-7.72 1.47 1.35L5.41 20z\"/>\n",
              "  </svg>\n",
              "      </button>\n",
              "      \n",
              "  <style>\n",
              "    .colab-df-container {\n",
              "      display:flex;\n",
              "      flex-wrap:wrap;\n",
              "      gap: 12px;\n",
              "    }\n",
              "\n",
              "    .colab-df-convert {\n",
              "      background-color: #E8F0FE;\n",
              "      border: none;\n",
              "      border-radius: 50%;\n",
              "      cursor: pointer;\n",
              "      display: none;\n",
              "      fill: #1967D2;\n",
              "      height: 32px;\n",
              "      padding: 0 0 0 0;\n",
              "      width: 32px;\n",
              "    }\n",
              "\n",
              "    .colab-df-convert:hover {\n",
              "      background-color: #E2EBFA;\n",
              "      box-shadow: 0px 1px 2px rgba(60, 64, 67, 0.3), 0px 1px 3px 1px rgba(60, 64, 67, 0.15);\n",
              "      fill: #174EA6;\n",
              "    }\n",
              "\n",
              "    [theme=dark] .colab-df-convert {\n",
              "      background-color: #3B4455;\n",
              "      fill: #D2E3FC;\n",
              "    }\n",
              "\n",
              "    [theme=dark] .colab-df-convert:hover {\n",
              "      background-color: #434B5C;\n",
              "      box-shadow: 0px 1px 3px 1px rgba(0, 0, 0, 0.15);\n",
              "      filter: drop-shadow(0px 1px 2px rgba(0, 0, 0, 0.3));\n",
              "      fill: #FFFFFF;\n",
              "    }\n",
              "  </style>\n",
              "\n",
              "      <script>\n",
              "        const buttonEl =\n",
              "          document.querySelector('#df-9c0043ac-155b-4b8a-b360-cef4148cc604 button.colab-df-convert');\n",
              "        buttonEl.style.display =\n",
              "          google.colab.kernel.accessAllowed ? 'block' : 'none';\n",
              "\n",
              "        async function convertToInteractive(key) {\n",
              "          const element = document.querySelector('#df-9c0043ac-155b-4b8a-b360-cef4148cc604');\n",
              "          const dataTable =\n",
              "            await google.colab.kernel.invokeFunction('convertToInteractive',\n",
              "                                                     [key], {});\n",
              "          if (!dataTable) return;\n",
              "\n",
              "          const docLinkHtml = 'Like what you see? Visit the ' +\n",
              "            '<a target=\"_blank\" href=https://colab.research.google.com/notebooks/data_table.ipynb>data table notebook</a>'\n",
              "            + ' to learn more about interactive tables.';\n",
              "          element.innerHTML = '';\n",
              "          dataTable['output_type'] = 'display_data';\n",
              "          await google.colab.output.renderOutput(dataTable, element);\n",
              "          const docLink = document.createElement('div');\n",
              "          docLink.innerHTML = docLinkHtml;\n",
              "          element.appendChild(docLink);\n",
              "        }\n",
              "      </script>\n",
              "    </div>\n",
              "  </div>\n",
              "  "
            ]
          },
          "metadata": {},
          "execution_count": 7
        }
      ],
      "source": [
        "df = pd.read_excel('/content/drive/MyDrive/Colab Notebooks/insurance_project/data/크롤링_데이터(전처리).xlsx')\n",
        "df = df[df['label'] !=5] # 라벨 5 제외\n",
        "df = df[['facts_pre', 'args_pre', 'label']]\n",
        "df.head(2)"
      ]
    },
    {
      "cell_type": "markdown",
      "metadata": {
        "id": "fDqMqgAKEjNS"
      },
      "source": [
        "### config"
      ]
    },
    {
      "cell_type": "code",
      "execution_count": null,
      "metadata": {
        "id": "xGKy_6r0Eh1Z"
      },
      "outputs": [],
      "source": [
        "# 모든 설정 값\n",
        "config = {\n",
        "    'test_size' : 0.2,\n",
        "    'batch_size' : 2,\n",
        "    'num_workers' : 0,\n",
        "    'epochs' : 1,\n",
        "    'learning_rate' : 1e-5,\n",
        "    'max_length' : 4096\n",
        "}"
      ]
    },
    {
      "cell_type": "code",
      "execution_count": null,
      "metadata": {
        "id": "BAvqYnzfBsHr"
      },
      "outputs": [],
      "source": [
        "# train val split\n",
        "X_train, X_test, y_train, y_test = train_test_split(df[['facts_pre', 'args_pre']], df['label'], test_size=config['test_size'], random_state=1)\n",
        "X_train = X_train.reset_index(drop=True)\n",
        "X_test = X_test.reset_index(drop=True)\n",
        "y_train = y_train.reset_index(drop=True)\n",
        "y_test = y_test.reset_index(drop=True)"
      ]
    },
    {
      "cell_type": "code",
      "execution_count": null,
      "metadata": {
        "id": "zxFFVN2jZQjz"
      },
      "outputs": [],
      "source": [
        "# dataset.py\n",
        "class BigBirdDataset:\n",
        "  def __init__(self, data, label):\n",
        "    self.data = data\n",
        "    self.label = label\n",
        "    self.tokenizer = tokenizer\n",
        "    self.max_len = config['max_length']\n",
        "\n",
        "  def __len__(self):\n",
        "    return len(self.data)\n",
        "\n",
        "  def __getitem__(self, item):\n",
        "    #  MAX_LENGTH가 FACTS 길이보다 짧으면 ARGS 토큰이 안나올수도 있다. (추가 개발 필요요)\n",
        "    input = '[FACT]' + self.data['facts_pre'][item] + '[ARGS]' + self.data['args_pre'][item]\n",
        "    label = self.label[item]\n",
        "    inputs = self.tokenizer.encode_plus(\n",
        "        input,\n",
        "        truncation=True,\n",
        "        max_length = self.max_len\n",
        "    )\n",
        "\n",
        "    ids = inputs[\"input_ids\"]\n",
        "    mask = inputs['attention_mask']\n",
        "    token_type_ids = inputs[\"token_type_ids\"]\n",
        "\n",
        "    padding_length = self.max_len - len(ids)\n",
        "    ids = ids + ([0] * padding_length)\n",
        "    mask = mask + ([0] * padding_length)\n",
        "    token_type_ids = token_type_ids + ([0] * padding_length)\n",
        "\n",
        "    return {\n",
        "        'ids' : torch.tensor(ids, dtype=torch.long),\n",
        "        'attention_masks' : torch.tensor(mask, dtype=torch.long),\n",
        "        'token_type_ids' : torch.tensor(token_type_ids, dtype=torch.long),\n",
        "        'label' : torch.tensor(label, dtype=torch.float)\n",
        "    }"
      ]
    },
    {
      "cell_type": "code",
      "execution_count": null,
      "metadata": {
        "id": "EJEgf4i98yXf"
      },
      "outputs": [],
      "source": [
        "train_dataset = BigBirdDataset(X_train, y_train)\n",
        "valid_dataset = BigBirdDataset(X_test, y_test)"
      ]
    },
    {
      "cell_type": "code",
      "execution_count": null,
      "metadata": {
        "id": "E0HwVup1ES1E"
      },
      "outputs": [],
      "source": [
        "train_data_loader = DataLoader(train_dataset,\n",
        "                               batch_size=config['batch_size'],\n",
        "                               num_workers=config['num_workers'],)\n",
        "\n",
        "valid_data_loader = DataLoader(valid_dataset,\n",
        "                               batch_size=config['batch_size'],\n",
        "                               num_workers=config['num_workers'])"
      ]
    },
    {
      "cell_type": "markdown",
      "metadata": {
        "id": "TS3ojCMQsAZy"
      },
      "source": [
        "### BigBirdClassifier"
      ]
    },
    {
      "cell_type": "code",
      "execution_count": null,
      "metadata": {
        "id": "gW3sUJDIs-bL"
      },
      "outputs": [],
      "source": [
        "class BigBirdClassifier(nn.Module):\n",
        "    def __init__(self, model, num_classes):\n",
        "        super().__init__()\n",
        "        self.bigbird = model\n",
        "        self.dropout = nn.Dropout(self.bigbird.config.hidden_dropout_prob)\n",
        "        self.classifier = nn.Linear(self.bigbird.config.hidden_size, num_classes)  # 768 to 3\n",
        "\n",
        "    def forward(self, input_ids, attention_mask, token_type_ids):\n",
        "        outputs = self.bigbird(input_ids=input_ids, attention_mask=attention_mask, token_type_ids=token_type_ids)\n",
        "        pooled_output = outputs.pooler_output\n",
        "        pooled_output = self.dropout(pooled_output)\n",
        "        logits = self.classifier(pooled_output)\n",
        "        probabilities = F.softmax(logits, dim=-1)\n",
        "        return probabilities, logits"
      ]
    },
    {
      "cell_type": "code",
      "execution_count": null,
      "metadata": {
        "id": "id8wyuy3t-hn"
      },
      "outputs": [],
      "source": [
        "# 커스텀 모델 불러오기기\n",
        "bigbirdModel = BigBirdClassifier(model, 3).to(device)"
      ]
    },
    {
      "cell_type": "code",
      "execution_count": null,
      "metadata": {
        "id": "bI_-s6ftxP9t"
      },
      "outputs": [],
      "source": [
        "# 손실함수\n",
        "loss_fn = nn.CrossEntropyLoss()\n",
        "\n",
        "# 옵티마이저\n",
        "optimizer = torch.optim.Adam(model.parameters(), lr=config['learning_rate'])"
      ]
    },
    {
      "cell_type": "code",
      "source": [
        "len(train_dataset)"
      ],
      "metadata": {
        "colab": {
          "base_uri": "https://localhost:8080/"
        },
        "id": "22FpTLK-LsCs",
        "outputId": "f349b7cb-3741-413b-a1eb-2194480433e4"
      },
      "execution_count": null,
      "outputs": [
        {
          "output_type": "execute_result",
          "data": {
            "text/plain": [
              "390"
            ]
          },
          "metadata": {},
          "execution_count": 27
        }
      ]
    },
    {
      "cell_type": "code",
      "source": [
        "len(train_data_loader)"
      ],
      "metadata": {
        "colab": {
          "base_uri": "https://localhost:8080/"
        },
        "id": "Gy0JJCMMLpYy",
        "outputId": "962aa3dc-13bc-420d-f417-f532418f3aba"
      },
      "execution_count": null,
      "outputs": [
        {
          "output_type": "execute_result",
          "data": {
            "text/plain": [
              "195"
            ]
          },
          "metadata": {},
          "execution_count": 26
        }
      ]
    },
    {
      "cell_type": "code",
      "source": [
        "step_by_epoch = len(train_data_loader) // config['batch_size'] + 1\n",
        "step_by_epoch"
      ],
      "metadata": {
        "colab": {
          "base_uri": "https://localhost:8080/"
        },
        "id": "IqcA6ulHLgaZ",
        "outputId": "804a1aa7-8774-4b14-cb12-cb949f8d167e"
      },
      "execution_count": null,
      "outputs": [
        {
          "output_type": "execute_result",
          "data": {
            "text/plain": [
              "98"
            ]
          },
          "metadata": {},
          "execution_count": 25
        }
      ]
    },
    {
      "cell_type": "code",
      "execution_count": null,
      "metadata": {
        "colab": {
          "base_uri": "https://localhost:8080/"
        },
        "id": "K1KXpRvCGgtS",
        "outputId": "12c95e41-6eb9-4906-ec70-6d326705418f"
      },
      "outputs": [
        {
          "output_type": "stream",
          "name": "stdout",
          "text": [
            "\n",
            "======== Epoch 1 / 1 ========\n",
            "Training...\n"
          ]
        },
        {
          "output_type": "stream",
          "name": "stderr",
          "text": [
            "100%|██████████| 195/195 [00:10<00:00, 19.29it/s]"
          ]
        },
        {
          "output_type": "stream",
          "name": "stdout",
          "text": [
            "epoch : 1  Accuracy : 0.9338  Loss : 0.1457  Precision : 0.9335   Recall : 0.7851  F1-score : 0.8291\n"
          ]
        },
        {
          "output_type": "stream",
          "name": "stderr",
          "text": [
            "\n"
          ]
        }
      ],
      "source": [
        "for epoch in range(0, config['epochs']):\n",
        "  print(\"\")\n",
        "  print('======== Epoch {:} / {:} ========'.format(epoch+1, config['epochs']))\n",
        "  print('Training...')\n",
        "  preds = []\n",
        "  labels = []\n",
        "  model.train()\n",
        "  train_precision = 0.0\n",
        "  train_recall = 0.0\n",
        "  train_f1 = 0.0\n",
        "  train_acc = 0.0\n",
        "  train_loss = 0.0\n",
        "  for batch_id, batch in enumerate(tqdm(train_data_loader)):\n",
        "    # 배치 단위로 GPU로 로드드\n",
        "    b_input_ids = batch['ids'].to(device)\n",
        "    b_input_mask = batch['attention_masks'].to(device)\n",
        "    b_token_type_id = batch['token_type_ids'].to(device)\n",
        "    b_labels = batch['label'].to(device)\n",
        "\n",
        "    # Forward 수행\n",
        "    outputs, logits = bigbirdModel(b_input_ids,\n",
        "                    token_type_ids=b_token_type_id,\n",
        "                    attention_mask=b_input_mask\n",
        "                    )\n",
        "\n",
        "    # Accuracy 계산\n",
        "    preds.extend(torch.argmax(outputs, axis=1).tolist())\n",
        "    labels.extend(b_labels.tolist())\n",
        "    ac = accuracy_score(labels, preds)\n",
        "    train_acc += accuracy_score(labels, preds)\n",
        "\n",
        "    # Precision, Recall, F1 score 계산\n",
        "    train_precision += precision_score(labels, preds, average='macro')\n",
        "    train_recall += recall_score(labels, preds, average='macro')\n",
        "    train_f1 += f1_score(labels, preds, average='macro')\n",
        "\n",
        "    # Loss 계산\n",
        "    loss = loss_fn(logits, b_labels.long())\n",
        "    train_loss += loss\n",
        "\n",
        "    # Backward 수행 및 업데이트\n",
        "    loss.backward()\n",
        "    optimizer.step()\n",
        "    optimizer.zero_grad()\n",
        "  print(f'epoch : {epoch+1}  Accuracy : {train_acc / len(train_data_loader):.4f}  Loss : {train_loss / len(train_data_loader):.4f}  Precision : {train_precision / len(train_data_loader):.4f}   Recall : {train_recall / len(train_data_loader):.4f}  F1-score : {train_f1 / len(train_data_loader):.4f}'  )"
      ]
    },
    {
      "cell_type": "markdown",
      "source": [
        "## 모델 저장"
      ],
      "metadata": {
        "id": "Ul2I67a7On-e"
      }
    },
    {
      "cell_type": "markdown",
      "source": [
        "## 모델 평가"
      ],
      "metadata": {
        "id": "0DRer75ROq65"
      }
    },
    {
      "cell_type": "code",
      "source": [
        "from sklearn.metrics import classification_report\n",
        "\n",
        "def evaluate(model, data_loader):\n",
        "    model.eval()\n",
        "    preds = []\n",
        "    labels = []\n",
        "    with torch.no_grad():\n",
        "        for batch in tqdm(data_loader):\n",
        "            b_input_ids = batch['ids'].to(device)\n",
        "            b_input_mask = batch['attention_masks'].to(device)\n",
        "            b_token_type_id = batch['token_type_ids'].to(device)\n",
        "            b_labels = batch['label'].to(device)\n",
        "\n",
        "            outputs, logits = model(b_input_ids,\n",
        "                                    token_type_ids=b_token_type_id,\n",
        "                                    attention_mask=b_input_mask)\n",
        "            preds.extend(torch.argmax(outputs, axis=1).tolist())\n",
        "            labels.extend(b_labels.tolist())\n",
        "\n",
        "        # 정확도 계산\n",
        "        accuracy = accuracy_score(labels, preds)\n",
        "\n",
        "        # Precision, Recall, F1 score 계산\n",
        "        report = classification_report(labels, preds, digits=4)\n",
        "        print(report)\n",
        "        return accuracy"
      ],
      "metadata": {
        "id": "2KNJQOEMJ_J-"
      },
      "execution_count": null,
      "outputs": []
    }
  ],
  "metadata": {
    "colab": {
      "machine_shape": "hm",
      "provenance": [],
      "gpuType": "V100"
    },
    "kernelspec": {
      "display_name": "Python 3",
      "name": "python3"
    },
    "language_info": {
      "name": "python"
    },
    "accelerator": "GPU"
  },
  "nbformat": 4,
  "nbformat_minor": 0
}